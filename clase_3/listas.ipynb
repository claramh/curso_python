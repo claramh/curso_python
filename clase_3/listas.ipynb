{
 "cells": [
  {
   "cell_type": "code",
   "execution_count": 8,
   "id": "a235aca8",
   "metadata": {},
   "outputs": [
    {
     "name": "stdout",
     "output_type": "stream",
     "text": [
      "[5, 6]\n",
      "[1, 2.5, 'DevCode', [5, 6], 4, 'AÑADIDO']\n",
      "[1, 'BU', 2.5, 'DevCode', [5, 6], 4, 'AÑADIDO']\n"
     ]
    }
   ],
   "source": [
    "## MODIFICACIONES EN LA LISTA\n",
    "\n",
    "lista = [1, 2.5, 'DevCode', [5,6] ,4]\n",
    "print(lista[3])\n",
    "lista.append(\"AÑADIDO\") # añade al final\n",
    "print(lista)\n",
    "lista.insert(1, \"BU\") # añade en una posición específica: lista.insert(<índice>, <elemento>)\n",
    "print(lista)"
   ]
  },
  {
   "cell_type": "code",
   "execution_count": 11,
   "id": "770682a6",
   "metadata": {},
   "outputs": [
    {
     "name": "stdout",
     "output_type": "stream",
     "text": [
      "[1, 2.5, 5, 16, 47]\n",
      "[2, 5.0, 10, 32, 94]\n"
     ]
    }
   ],
   "source": [
    "# CREAR UNA LISTA A PARTIR DE OTRA\n",
    "\n",
    "lista = [1, 2.5, 5, 16, 47]\n",
    "lista_nueva = []\n",
    "\n",
    "for elemento in lista:\n",
    "    elemento = elemento * 2\n",
    "    lista_nueva.append(elemento)\n",
    "\n",
    "print(lista)\n",
    "print(lista_nueva)"
   ]
  },
  {
   "cell_type": "code",
   "execution_count": 16,
   "id": "f4ac8651",
   "metadata": {},
   "outputs": [
    {
     "name": "stdout",
     "output_type": "stream",
     "text": [
      "[1, 2.5, 5, 16, 47]\n",
      "2\n",
      "5.0\n",
      "10\n",
      "32\n",
      "94\n"
     ]
    }
   ],
   "source": [
    "# CREAR UNA LISTA A PARTIR DE OTRA: LO MISMO PERO MÁS ELEGANTE\n",
    "# La función range() retorna una sucesión de números enteros. \n",
    "# Cuando se le pasa un único argumento n, \n",
    "# la sucesión empieza desde el cero y culmina en n-1.\n",
    "\n",
    "lista = [1, 2.5, 5, 16, 47]\n",
    "print(lista)\n",
    "\n",
    "for indice in range(len(lista)): # range recorre posición por posición de la lista\n",
    "    lista[indice] = lista[indice] * 2\n",
    "    print(lista[indice])"
   ]
  },
  {
   "cell_type": "code",
   "execution_count": 14,
   "id": "81beb333",
   "metadata": {},
   "outputs": [
    {
     "data": {
      "text/plain": [
       "[0, 1, 2, 3, 4, 5, 6, 7, 8, 9]"
      ]
     },
     "execution_count": 14,
     "metadata": {},
     "output_type": "execute_result"
    }
   ],
   "source": [
    "list(range(10))"
   ]
  },
  {
   "cell_type": "code",
   "execution_count": null,
   "id": "c10d535d",
   "metadata": {},
   "outputs": [],
   "source": [
    "def hola():\n",
    "    print(\"holaaa\")\n",
    "\n",
    "hola()\n"
   ]
  }
 ],
 "metadata": {
  "kernelspec": {
   "display_name": "Python 3 (ipykernel)",
   "language": "python",
   "name": "python3"
  },
  "language_info": {
   "codemirror_mode": {
    "name": "ipython",
    "version": 3
   },
   "file_extension": ".py",
   "mimetype": "text/x-python",
   "name": "python",
   "nbconvert_exporter": "python",
   "pygments_lexer": "ipython3",
   "version": "3.10.0"
  }
 },
 "nbformat": 4,
 "nbformat_minor": 5
}

{
 "cells": [
  {
   "cell_type": "markdown",
   "id": "127b3313",
   "metadata": {},
   "source": [
    "Ejemplo de función en python.\n",
    "Pregunta el nombre y saluda al usuario\n",
    "\n",
    "\n"
   ]
  },
  {
   "cell_type": "code",
   "execution_count": 7,
   "id": "62399dea",
   "metadata": {},
   "outputs": [
    {
     "name": "stdout",
     "output_type": "stream",
     "text": [
      "Cuál es tu nombre? Clara\n",
      "Hola, Clara !\n"
     ]
    }
   ],
   "source": [
    "def preguntar_nombre():\n",
    "    nombre = input(\"Cuál es tu nombre? \")\n",
    "    print(\"Hola,\", nombre,\"!\")\n",
    "    return\n",
    "\n",
    "preguntar_nombre()"
   ]
  },
  {
   "cell_type": "markdown",
   "id": "e49f5f1e",
   "metadata": {},
   "source": [
    "Ejemplo de función con args: argumentos de longitud variable, tantos argumentos como se quiera"
   ]
  },
  {
   "cell_type": "code",
   "execution_count": 11,
   "id": "e0df23b9",
   "metadata": {},
   "outputs": [
    {
     "name": "stdout",
     "output_type": "stream",
     "text": [
      "La media de los números que me das es 10.0\n"
     ]
    }
   ],
   "source": [
    "def calcular_media(*args):\n",
    "    total = 0\n",
    "    for i in args:\n",
    "        total += i\n",
    "    resultado_media = total / len(args)\n",
    "    return resultado_media\n",
    "\n",
    "a,b,c= 5,15,10\n",
    "media = calcular_media(a, b, c)\n",
    "\n",
    "print(\"La media de los números que me das es\", media)"
   ]
  },
  {
   "cell_type": "markdown",
   "id": "956f1d56",
   "metadata": {},
   "source": [
    "Ejemplo de función con kwargs"
   ]
  },
  {
   "cell_type": "code",
   "execution_count": 12,
   "id": "699b2ebc",
   "metadata": {},
   "outputs": [
    {
     "name": "stdout",
     "output_type": "stream",
     "text": [
      "tres 3\n",
      "cinco: 5\n"
     ]
    }
   ],
   "source": [
    "def test_kwargs(**kwargs):\n",
    "    for key, value in kwargs.items():\n",
    "        print(\"{0} {1}\".format(key, value))\n",
    "        \n",
    "kwargs = {\"tres\": 3, \"cinco:\": 5}\n",
    "\n",
    "test_kwargs(**kwargs)"
   ]
  },
  {
   "cell_type": "markdown",
   "id": "80b41ce4",
   "metadata": {},
   "source": [
    "Funciones lambda"
   ]
  },
  {
   "cell_type": "code",
   "execution_count": 5,
   "id": "68dfe8e1",
   "metadata": {},
   "outputs": [
    {
     "name": "stdout",
     "output_type": "stream",
     "text": [
      "25\n"
     ]
    }
   ],
   "source": [
    "def multiplicar(x,y):\n",
    "    return x*y\n",
    "\n",
    "multiplicar(5,5)\n"
   ]
  },
  {
   "cell_type": "markdown",
   "id": "d8cb756f",
   "metadata": {},
   "source": [
    "La misma función se hace con lambda en una sola línea"
   ]
  },
  {
   "cell_type": "code",
   "execution_count": null,
   "id": "694e6ca3",
   "metadata": {},
   "outputs": [],
   "source": [
    "m_lambda = lambda x, y: x * y # sugar syntaxis\n",
    "m_lambda(5,5)\n"
   ]
  },
  {
   "cell_type": "markdown",
   "id": "67107485",
   "metadata": {},
   "source": [
    "También se puede llamar directamente por un print\n"
   ]
  },
  {
   "cell_type": "code",
   "execution_count": null,
   "id": "b5123921",
   "metadata": {},
   "outputs": [],
   "source": [
    "print(f\"{(lambda x: x*5)(5)}\")"
   ]
  }
 ],
 "metadata": {
  "kernelspec": {
   "display_name": "Python 3 (ipykernel)",
   "language": "python",
   "name": "python3"
  },
  "language_info": {
   "codemirror_mode": {
    "name": "ipython",
    "version": 3
   },
   "file_extension": ".py",
   "mimetype": "text/x-python",
   "name": "python",
   "nbconvert_exporter": "python",
   "pygments_lexer": "ipython3",
   "version": "3.10.0"
  }
 },
 "nbformat": 4,
 "nbformat_minor": 5
}
